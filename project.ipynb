{
 "cells": [
  {
   "cell_type": "code",
   "execution_count": 1,
   "metadata": {},
   "outputs": [],
   "source": [
    "\"\"\"\n",
    "@author: Burak Kara\n",
    "S009893\n",
    "\"\"\"\n",
    "\n",
    "import pandas as pd\n",
    "from sklearn.discriminant_analysis import LinearDiscriminantAnalysis\n",
    "from sklearn.discriminant_analysis import QuadraticDiscriminantAnalysis\n",
    "from sklearn.metrics import classification_report\n",
    "from sklearn import svm\n",
    "import matplotlib.pyplot as plt\n",
    "from matplotlib.pyplot import savefig"
   ]
  },
  {
   "cell_type": "code",
   "execution_count": 2,
   "metadata": {},
   "outputs": [],
   "source": [
    "dataset = pd.read_csv(\"ProjectData.csv\", header=None, skiprows=[0])"
   ]
  },
  {
   "cell_type": "code",
   "execution_count": 3,
   "metadata": {},
   "outputs": [
    {
     "data": {
      "text/plain": [
       "296"
      ]
     },
     "execution_count": 3,
     "metadata": {},
     "output_type": "execute_result"
    }
   ],
   "source": [
    "file = open(\"output.txt\", \"w\")\n",
    "exp = \"Precision: for all instances predicted as positive, percentage of correct classified\\n\"\n",
    "exp+= \"Recall   : for all instances actually positive, percentage of correct classified\\n\"\n",
    "exp+= \"f1 score : a weighted mean of precision and recall\\n\"\n",
    "exp+= \"Support  : number of actual occurrences of the class in the specified dataset\\n\\n\"\n",
    "\n",
    "file.write(exp)"
   ]
  },
  {
   "cell_type": "code",
   "execution_count": 4,
   "metadata": {},
   "outputs": [],
   "source": [
    "# fill missing values with 0\n",
    "dataset.fillna(dataset.median(), inplace= True)"
   ]
  },
  {
   "cell_type": "code",
   "execution_count": 5,
   "metadata": {},
   "outputs": [],
   "source": [
    "# keep length of dataset to split it into test and train sets\n",
    "LENGTH = len(dataset)\n",
    "train_LEN = int(7*LENGTH/10)\n",
    "\n",
    "# shuffle rows of dataset\n",
    "dataset = dataset.sample(frac=1)"
   ]
  },
  {
   "cell_type": "code",
   "execution_count": 6,
   "metadata": {},
   "outputs": [],
   "source": [
    "# split dataset into labels and variables\n",
    "values = dataset.values\n",
    "VARIABLES = values[:, 2:]\n",
    "LABELS = values[:, 1]\n",
    "\n",
    "train_VARs = VARIABLES[:train_LEN, 2:]\n",
    "train_LABs = LABELS[:train_LEN]\n",
    "\n",
    "test_VARs = VARIABLES[train_LEN:, 2:]\n",
    "test_LABs = LABELS[train_LEN:]"
   ]
  },
  {
   "cell_type": "code",
   "execution_count": 7,
   "metadata": {},
   "outputs": [
    {
     "name": "stderr",
     "output_type": "stream",
     "text": [
      "C:\\Users\\Burak Kara\\Anaconda3\\lib\\site-packages\\sklearn\\discriminant_analysis.py:388: UserWarning: Variables are collinear.\n",
      "  warnings.warn(\"Variables are collinear.\")\n"
     ]
    },
    {
     "data": {
      "text/plain": [
       "214"
      ]
     },
     "execution_count": 7,
     "metadata": {},
     "output_type": "execute_result"
    }
   ],
   "source": [
    "# set learning tool\n",
    "lda = LinearDiscriminantAnalysis()\n",
    "model_L = lda.fit(train_VARs, train_LABs)\n",
    "pred_Lda = model_L.predict(test_VARs)\n",
    "\n",
    "# create classification report\n",
    "report_L = classification_report(test_LABs, pred_Lda, digits=5)\n",
    "\n",
    "# write report to output file\n",
    "file.write(\"Linear Discriminant Analysis Report\\n\")\n",
    "file.write(report_L)"
   ]
  },
  {
   "cell_type": "code",
   "execution_count": 8,
   "metadata": {},
   "outputs": [
    {
     "name": "stderr",
     "output_type": "stream",
     "text": [
      "C:\\Users\\Burak Kara\\Anaconda3\\lib\\site-packages\\sklearn\\discriminant_analysis.py:682: UserWarning: Variables are collinear\n",
      "  warnings.warn(\"Variables are collinear\")\n"
     ]
    },
    {
     "data": {
      "text/plain": [
       "214"
      ]
     },
     "execution_count": 8,
     "metadata": {},
     "output_type": "execute_result"
    }
   ],
   "source": [
    "# set learning tool \n",
    "qda = QuadraticDiscriminantAnalysis()\n",
    "model_Q = qda.fit(train_VARs, train_LABs)\n",
    "pred_Quad = model_Q.predict(test_VARs)\n",
    "\n",
    "# create classification report\n",
    "report_Q = classification_report(test_LABs, pred_Quad, digits=5)\n",
    "\n",
    "# write report to output file\n",
    "file.write(\"\\nQuadratic Discriminant Analysis Report\\n\")\n",
    "file.write(report_Q)"
   ]
  },
  {
   "cell_type": "code",
   "execution_count": 9,
   "metadata": {
    "scrolled": true
   },
   "outputs": [
    {
     "data": {
      "text/plain": [
       "214"
      ]
     },
     "execution_count": 9,
     "metadata": {},
     "output_type": "execute_result"
    }
   ],
   "source": [
    "# set learning tool\n",
    "model_Svc = svm.SVC(kernel=\"rbf\", C=1000000, gamma=0.0000000001)\n",
    "model_Svc.fit(train_VARs, train_LABs)\n",
    "\n",
    "score = model_Svc.score(train_VARs, train_LABs)\n",
    "pred_Svc = model_Svc.predict(test_VARs)\n",
    "\n",
    "# create classification report\n",
    "report_Svc = classification_report(test_LABs, pred_Svc, digits=5)\n",
    "\n",
    "# write report to output file\n",
    "file.write(\"\\nSVC Report\\n\")\n",
    "file.write(report_Svc)"
   ]
  },
  {
   "cell_type": "code",
   "execution_count": 10,
   "metadata": {},
   "outputs": [],
   "source": [
    "# set learning tool\n",
    "model_Svr = svm.SVR(kernel=\"rbf\", C=1000000, gamma=0.0000000001)\n",
    "model_Svr.fit(train_VARs, train_LABs)\n",
    "\n",
    "score = model_Svr.score(train_VARs, train_LABs)\n",
    "pred_Svr = model_Svr.predict(test_VARs)"
   ]
  },
  {
   "cell_type": "code",
   "execution_count": 11,
   "metadata": {},
   "outputs": [
    {
     "data": {
      "image/png": "[encoded data removed]",
      "text/plain": [
       "<Figure size 432x288 with 1 Axes>"
      ]
     },
     "metadata": {
      "needs_background": "light"
     },
     "output_type": "display_data"
    }
   ],
   "source": [
    "# Create the plot object\n",
    "_, ax = plt.subplots()\n",
    "\n",
    "greenCount=0\n",
    "redCount=0\n",
    "\n",
    "# Plot the data, set the size (s), color and transparency (alpha) of the points\n",
    "for x, y, i in zip(pred_Svr, pred_Svc, test_LABs):\n",
    "    if i == 1:\n",
    "        c = \"r\"\n",
    "        if redCount == 0:\n",
    "            ax.scatter(x, y, s = 10,  color=c, label=\"1\", alpha = 0.75)\n",
    "            redCount = 1\n",
    "    else:\n",
    "        c = \"g\"\n",
    "        if greenCount == 0:\n",
    "            ax.scatter(x, y, s = 10,  color=c, label=\"0\", alpha = 0.75)\n",
    "            greenCount = 1\n",
    "    ax.scatter(x, y, s = 10,  color=c, alpha = 0.75)\n",
    "\n",
    "plt.legend()\n",
    "ax.grid()\n",
    "\n",
    "# Label the axes and provide a title\n",
    "ax.set_title(\"Regression vs Classification\")\n",
    "ax.set_xlabel(\"Regression Result\")\n",
    "ax.set_ylabel(\"SVC Prediction\")\n",
    "\n",
    "savefig(\"graph.png\")"
   ]
  },
  {
   "cell_type": "code",
   "execution_count": 12,
   "metadata": {},
   "outputs": [],
   "source": [
    "file.close()"
   ]
  }
 ],
 "metadata": {
  "kernelspec": {
   "display_name": "Python 3",
   "language": "python",
   "name": "python3"
  },
  "language_info": {
   "codemirror_mode": {
    "name": "ipython",
    "version": 3
   },
   "file_extension": ".py",
   "mimetype": "text/x-python",
   "name": "python",
   "nbconvert_exporter": "python",
   "pygments_lexer": "ipython3",
   "version": "3.7.0"
  }
 },
 "nbformat": 4,
 "nbformat_minor": 2
}
